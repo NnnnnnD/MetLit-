{
  "nbformat": 4,
  "nbformat_minor": 0,
  "metadata": {
    "colab": {
      "provenance": [],
      "authorship_tag": "ABX9TyMSkuXlaZJgq8UBqInF/8DH",
      "include_colab_link": true
    },
    "kernelspec": {
      "name": "python3",
      "display_name": "Python 3"
    },
    "language_info": {
      "name": "python"
    }
  },
  "cells": [
    {
      "cell_type": "markdown",
      "metadata": {
        "id": "view-in-github",
        "colab_type": "text"
      },
      "source": [
        "<a href=\"https://colab.research.google.com/github/Snkhodijah/MetLit-/blob/main/If_Or_.ipynb\" target=\"_parent\"><img src=\"https://colab.research.google.com/assets/colab-badge.svg\" alt=\"Open In Colab\"/></a>"
      ]
    },
    {
      "cell_type": "markdown",
      "source": [
        "**PERCABANGAN (IF)**\n",
        "\n",
        "---\n",
        "\n"
      ],
      "metadata": {
        "id": "lzzwlnM8A8Uk"
      }
    },
    {
      "cell_type": "code",
      "execution_count": null,
      "metadata": {
        "colab": {
          "base_uri": "https://localhost:8080/"
        },
        "id": "xG45Y5qQ1n6c",
        "outputId": "804d14f2-034c-47c6-98b0-c2f2095057c0"
      },
      "outputs": [
        {
          "output_type": "stream",
          "name": "stdout",
          "text": [
            "A\n"
          ]
        }
      ],
      "source": [
        "# if Sederhana\n",
        "# if [kondisi]\n",
        "  # [pernyataan jika kondisi benar]\n",
        "\n",
        "nilai = 80\n",
        "if nilai >= 80:\n",
        "  print(\"A\")"
      ]
    },
    {
      "cell_type": "code",
      "source": [
        "# ELIF (else if)\n",
        "\n",
        "nilai = 62\n",
        "if nilai >= 80:\n",
        "  print(\"A\")\n",
        "elif nilai >= 70:\n",
        "  print(\"B\")\n",
        "elif nilai >= 65:\n",
        "  print(\"C\")\n",
        "# ELSE langsung deskripsikan kondisi nya\n",
        "else:\n",
        "  print(\"D\")"
      ],
      "metadata": {
        "colab": {
          "base_uri": "https://localhost:8080/"
        },
        "id": "D47HgPoG31w2",
        "outputId": "745de5ee-e826-4f25-a42a-9f6ca5c927c2"
      },
      "execution_count": null,
      "outputs": [
        {
          "output_type": "stream",
          "name": "stdout",
          "text": [
            "D\n"
          ]
        }
      ]
    },
    {
      "cell_type": "code",
      "source": [
        "nilai = 90\n",
        "if nilai >= 80:\n",
        "  grade = \"A\"\n",
        "elif nilai >= 75:\n",
        "  grade = \"B\"\n",
        "else:\n",
        "  grade = \"E\"\n",
        "\n",
        "print (grade)"
      ],
      "metadata": {
        "colab": {
          "base_uri": "https://localhost:8080/"
        },
        "id": "W6eGma1c6qma",
        "outputId": "40adcd89-0c17-495b-944a-56e85878777e"
      },
      "execution_count": null,
      "outputs": [
        {
          "output_type": "stream",
          "name": "stdout",
          "text": [
            "A\n"
          ]
        }
      ]
    },
    {
      "cell_type": "markdown",
      "source": [
        "# New Section"
      ],
      "metadata": {
        "id": "mFKPROE5EyTt"
      }
    },
    {
      "cell_type": "code",
      "source": [
        "nilai = 80\n",
        "kehadiran = 75\n",
        "\n",
        "if kehadiran >= 75 and nilai >= 85:\n",
        "  grade = \"A\"\n",
        "elif kehadiran >= 75 and nilai >= 75:\n",
        "  grade = \"B\"\n",
        "elif kehadiran >= 75 and nilai >= 60:\n",
        "  grade = \"C\"\n",
        "elif kehadiran >= 75 and nilai < 60:\n",
        "  grade = \"D\"\n",
        "elif kehadiran < 75:\n",
        "  grade = \"E\"\n",
        "\n",
        "print (grade)"
      ],
      "metadata": {
        "colab": {
          "base_uri": "https://localhost:8080/"
        },
        "id": "pM2pjd3S49fF",
        "outputId": "b724a2f8-c35d-42c1-e5af-a7e74dab2698"
      },
      "execution_count": null,
      "outputs": [
        {
          "output_type": "stream",
          "name": "stdout",
          "text": [
            "B\n"
          ]
        }
      ]
    },
    {
      "cell_type": "code",
      "source": [
        "# NESTESD IF\n",
        "nilai = 85\n",
        "kehadiran = 75\n",
        "\n",
        "if kehadiran >= 75:\n",
        "  if nilai >= 85:\n",
        "    grade = \"A\"\n",
        "  elif nilai >= 75:\n",
        "    grade = \"B\"\n",
        "  elif nilai >= 65:\n",
        "    grade = \"C\"\n",
        "  else:\n",
        "    grade = \"D\"\n",
        "\n",
        "else:\n",
        "  grade = \"E\"\n",
        "\n",
        "print (grade)"
      ],
      "metadata": {
        "colab": {
          "base_uri": "https://localhost:8080/"
        },
        "id": "EZ3GOIq89vdR",
        "outputId": "a7653f5b-5510-42ba-b19f-144ee4a68a67"
      },
      "execution_count": null,
      "outputs": [
        {
          "output_type": "stream",
          "name": "stdout",
          "text": [
            "A\n"
          ]
        }
      ]
    },
    {
      "cell_type": "code",
      "source": [
        "# Ternary sederhana / Short Hand if (hanya menampilkan satu kondisi )\n",
        "# if (kondisi) : (sederhana)\n",
        "nilai = 85\n",
        "if nilai >= 75: print (\"A\")"
      ],
      "metadata": {
        "colab": {
          "base_uri": "https://localhost:8080/"
        },
        "id": "fhTwHHDz4z6N",
        "outputId": "62dab024-fe52-4000-a13a-b48cd9e994fa"
      },
      "execution_count": null,
      "outputs": [
        {
          "output_type": "stream",
          "name": "stdout",
          "text": [
            "A\n"
          ]
        }
      ]
    },
    {
      "cell_type": "code",
      "source": [
        "# ternary dengan ELSE\n",
        "kehadiran = 90\n",
        "print(\"lulus\") if kehadiran >= 75 else print (\"tidak lulus\")\n",
        "#tanpa menggunakan :"
      ],
      "metadata": {
        "colab": {
          "base_uri": "https://localhost:8080/"
        },
        "id": "paOB2GtEALAf",
        "outputId": "988a7a94-1b94-4592-a07b-144bc81d24da"
      },
      "execution_count": null,
      "outputs": [
        {
          "output_type": "stream",
          "name": "stdout",
          "text": [
            "lulus\n"
          ]
        }
      ]
    },
    {
      "cell_type": "code",
      "source": [
        "usia = input (\"masukan usia :\")\n",
        "penghasilan = input (\"masukan penghasilan :\")\n",
        "\n",
        "if int(usia) >= 18:\n",
        "  if int(penghasilan) >=1500000:\n",
        "    print (\"layak\")\n",
        "  else:\n",
        "    print (\"tidak layak\")\n",
        "else:\n",
        "  print (\"tidak layak mendapatkan pinjaman\")"
      ],
      "metadata": {
        "colab": {
          "base_uri": "https://localhost:8080/"
        },
        "id": "2n6EPxS8D3dX",
        "outputId": "ca7e1105-62d5-43d9-dca6-7062a23119da"
      },
      "execution_count": null,
      "outputs": [
        {
          "output_type": "stream",
          "name": "stdout",
          "text": [
            "masukan usia :23\n",
            "masukan penghasilan :1900000\n",
            "layak\n"
          ]
        }
      ]
    },
    {
      "cell_type": "markdown",
      "source": [
        "**PERULANGAN**\n",
        "\n",
        "---\n",
        "\n"
      ],
      "metadata": {
        "id": "HfLogg5aFChz"
      }
    },
    {
      "cell_type": "code",
      "source": [
        "# for in range\n",
        "# for [var] in range (number): / (awal,akhir,step):\n",
        "  #pernyataan\n",
        "\n",
        "for i in range(1,11,1):\n",
        "  print(i)"
      ],
      "metadata": {
        "colab": {
          "base_uri": "https://localhost:8080/"
        },
        "id": "SCje7hPnFGNM",
        "outputId": "5aa9c60c-9e73-4d19-fcae-512f42125221"
      },
      "execution_count": null,
      "outputs": [
        {
          "output_type": "stream",
          "name": "stdout",
          "text": [
            "1\n",
            "2\n",
            "3\n",
            "4\n",
            "5\n",
            "6\n",
            "7\n",
            "8\n",
            "9\n",
            "10\n"
          ]
        }
      ]
    },
    {
      "cell_type": "code",
      "source": [
        "for i in range(10):\n",
        "  print(i)"
      ],
      "metadata": {
        "colab": {
          "base_uri": "https://localhost:8080/"
        },
        "id": "z2SqYfI6IJg1",
        "outputId": "1c1bef66-f10c-486f-dffb-db75948b7029"
      },
      "execution_count": null,
      "outputs": [
        {
          "output_type": "stream",
          "name": "stdout",
          "text": [
            "0\n",
            "1\n",
            "2\n",
            "3\n",
            "4\n",
            "5\n",
            "6\n",
            "7\n",
            "8\n",
            "9\n"
          ]
        }
      ]
    },
    {
      "cell_type": "code",
      "source": [
        "# for in element\n",
        "# for [var] in [data_collection]:\n",
        "  #pernyataan\n",
        "\n",
        "namas = [\"budi\", \"poni\", \"sela\"]\n",
        "for nama in namas:\n",
        "  print(nama)"
      ],
      "metadata": {
        "colab": {
          "base_uri": "https://localhost:8080/"
        },
        "id": "bfx03qbxJcDY",
        "outputId": "4a6464fe-d17c-4650-8467-7ec916737aec"
      },
      "execution_count": null,
      "outputs": [
        {
          "output_type": "stream",
          "name": "stdout",
          "text": [
            "budi\n",
            "poni\n",
            "sela\n"
          ]
        }
      ]
    },
    {
      "cell_type": "code",
      "source": [
        "for i in range (0,20,4):\n",
        "  print (i)"
      ],
      "metadata": {
        "colab": {
          "base_uri": "https://localhost:8080/"
        },
        "id": "fJQOBvTkJ44t",
        "outputId": "033a7568-3d75-4d7a-9125-d204ce7e5937"
      },
      "execution_count": null,
      "outputs": [
        {
          "output_type": "stream",
          "name": "stdout",
          "text": [
            "0\n",
            "4\n",
            "8\n",
            "12\n",
            "16\n"
          ]
        }
      ]
    },
    {
      "cell_type": "markdown",
      "source": [
        "# WHILE\n"
      ],
      "metadata": {
        "id": "cglGXRLCgX2Z"
      }
    },
    {
      "cell_type": "code",
      "source": [
        "x = 0\n",
        "while x < 5:\n",
        "  print(\"Not there yet, x=\" + str(x))\n",
        "  x = x + 1\n",
        "print(\"x=\" + str(x))"
      ],
      "metadata": {
        "colab": {
          "base_uri": "https://localhost:8080/"
        },
        "id": "tOZMPJAigayx",
        "outputId": "3ff2e25e-e8e8-486d-d38c-1dd026e7b161"
      },
      "execution_count": null,
      "outputs": [
        {
          "output_type": "stream",
          "name": "stdout",
          "text": [
            "Not there yet, x=0\n",
            "Not there yet, x=1\n",
            "Not there yet, x=2\n",
            "Not there yet, x=3\n",
            "Not there yet, x=4\n",
            "x=5\n"
          ]
        }
      ]
    },
    {
      "cell_type": "code",
      "source": [
        "def count_down(start_number):\n",
        "  current = start_number\n",
        "  while (current > 0):\n",
        "    print(current)\n",
        "    current -= 1\n",
        "  print(\"Zero!\")\n",
        "\n",
        "count_down(3)"
      ],
      "metadata": {
        "colab": {
          "base_uri": "https://localhost:8080/"
        },
        "id": "eTZT5nmnhJEl",
        "outputId": "8281eb81-abe4-4703-8af0-68b0cdf02547"
      },
      "execution_count": null,
      "outputs": [
        {
          "output_type": "stream",
          "name": "stdout",
          "text": [
            "3\n",
            "2\n",
            "1\n",
            "Zero!\n"
          ]
        }
      ]
    },
    {
      "cell_type": "code",
      "source": [
        "def even_numbers(n):\n",
        "    count = 0\n",
        "    current_number = 0\n",
        "    while current_number <= n: # Complete the while loop condition\n",
        "        if current_number % 2 == 0:\n",
        "            count += 1 # Increment the appropriate variable\n",
        "        current_number +=1 # Increment the appropriate variable\n",
        "    return count\n",
        "\n",
        "print(even_numbers(25))   # Should print 13\n",
        "print(even_numbers(144))  # Should print 73\n",
        "print(even_numbers(1000)) # Should print 501\n",
        "print(even_numbers(0))    # Should print 1"
      ],
      "metadata": {
        "id": "OW7Ancb5I6m4",
        "outputId": "bcac5d08-11e3-4a8d-a880-8e404a754193",
        "colab": {
          "base_uri": "https://localhost:8080/"
        }
      },
      "execution_count": null,
      "outputs": [
        {
          "output_type": "stream",
          "name": "stdout",
          "text": [
            "13\n",
            "73\n",
            "501\n",
            "1\n"
          ]
        }
      ]
    },
    {
      "cell_type": "markdown",
      "source": [
        "Infiniti **loops**"
      ],
      "metadata": {
        "id": "L9DEkpLGkKXs"
      }
    },
    {
      "cell_type": "code",
      "source": [
        "def print_range(start, end):\n",
        "    # Loop through the numbers from start to end\n",
        "    n = start\n",
        "    while n <= end:\n",
        "        print(n)\n",
        "        n += 1  # Increment n by 1 in each iteration\n",
        "\n",
        "print_range(1, 5)  # Should print 1 2 3 4 5 (each number on its own line)\n"
      ],
      "metadata": {
        "colab": {
          "base_uri": "https://localhost:8080/"
        },
        "id": "jxsd7EvEkJ-Z",
        "outputId": "5ac8b20b-1fd8-4397-ed02-f140eedfec1c"
      },
      "execution_count": null,
      "outputs": [
        {
          "output_type": "stream",
          "name": "stdout",
          "text": [
            "1\n",
            "2\n",
            "3\n",
            "4\n",
            "5\n"
          ]
        }
      ]
    },
    {
      "cell_type": "markdown",
      "source": [
        "## exs"
      ],
      "metadata": {
        "id": "xxuhTyEPtFcS"
      }
    },
    {
      "cell_type": "code",
      "source": [
        "def is_power_of_two(number):\n",
        "  # This while loop checks if the \"number\" can be divided by two\n",
        "  # without leaving a remainder. How can you change the while loop to\n",
        "  # avoid a Python ZeroDivisionError?\n",
        "\n",
        "  if number == 0:\n",
        "    return False\n",
        "  while number % 2 == 0 and number > 1:\n",
        "    number = number / 2\n",
        "  # If after dividing by 2 \"number\" equals 1, then \"number\" is a power\n",
        "  # of 2.\n",
        "  if number == 1:\n",
        "    return True\n",
        "  return False\n",
        "\n",
        "\n",
        "# Calls to the function\n",
        "print(is_power_of_two(0)) # Should be False\n",
        "print(is_power_of_two(1)) # Should be True\n",
        "print(is_power_of_two(8)) # Should be True\n",
        "print(is_power_of_two(9)) # Should be False"
      ],
      "metadata": {
        "colab": {
          "base_uri": "https://localhost:8080/"
        },
        "id": "v-NnOR6rsEPS",
        "outputId": "f076cb49-baa5-4806-980a-2cd0439f451a"
      },
      "execution_count": null,
      "outputs": [
        {
          "output_type": "stream",
          "name": "stdout",
          "text": [
            "False\n",
            "True\n",
            "True\n",
            "False\n"
          ]
        }
      ]
    },
    {
      "cell_type": "code",
      "source": [
        "# Fill in the blanks so that the while loop continues to run while the\n",
        "# \"divisor\" variable is less than the \"number\" parameter.\n",
        "\n",
        "def sum_divisors(number):\n",
        "# Initialize the appropriate variables\n",
        "  divisor= 1\n",
        "  total = 0\n",
        "\n",
        "  # Avoid dividing by 0 and negative numbers\n",
        "  # in the while loop by exiting the function\n",
        "  # if \"number\" is less than one\n",
        "  if number < 1:\n",
        "    return 0\n",
        "\n",
        "  # Complete the while loop\n",
        "  while divisor < number:\n",
        "    if number % divisor == 0:\n",
        "      total += divisor\n",
        "    # Increment the correct variable\n",
        "    divisor += 1\n",
        "\n",
        "  # Return the correct variable\n",
        "  return total\n",
        "\n",
        "\n",
        "print(sum_divisors(0)) # Should print 0\n",
        "print(sum_divisors(3)) # Should print 1\n",
        "# 1\n",
        "print(sum_divisors(36)) # Should print 1+2+3+4+6+9+12+18\n",
        "# 55\n",
        "print(sum_divisors(102)) # Should print 1+2+3+6+17+34+51\n",
        "# 114\n"
      ],
      "metadata": {
        "colab": {
          "base_uri": "https://localhost:8080/"
        },
        "id": "lHmVZ0TNsIll",
        "outputId": "390311ce-cd0b-4dde-ff25-d8a4b1db5d88"
      },
      "execution_count": null,
      "outputs": [
        {
          "output_type": "stream",
          "name": "stdout",
          "text": [
            "0\n",
            "1\n",
            "55\n",
            "114\n"
          ]
        }
      ]
    },
    {
      "cell_type": "code",
      "source": [
        "def multiplication_table(number):\n",
        "    # Initialize the appropriate variable\n",
        "    multiplier = 1\n",
        "\n",
        "    # Complete the while loop condition.\n",
        "    while multiplier <= 5:\n",
        "        result = number * multiplier\n",
        "        if  result > 25 :\n",
        "            # Enter the action to take if the result is greater than 25\n",
        "            break\n",
        "        print(str(number) + \"x\" + str(multiplier) + \"=\" + str(result))\n",
        "\n",
        "        # Increment the appropriate variable\n",
        "        multiplier += 1\n",
        "\n",
        "\n",
        "multiplication_table(3)\n",
        "# Should print:\n",
        "# 3x1=3\n",
        "# 3x2=6\n",
        "# 3x3=9\n",
        "# 3x4=12\n",
        "# 3x5=15\n",
        "\n",
        "multiplication_table(5)\n",
        "# Should print:\n",
        "# 5x1=5\n",
        "# 5x2=10\n",
        "# 5x3=15\n",
        "# 5x4=20\n",
        "# 5x5=25\n",
        "\n",
        "multiplication_table(8)\n",
        "# Should print:\n",
        "# 8x1=8\n",
        "# 8x2=16\n",
        "# 8x3=24\n"
      ],
      "metadata": {
        "colab": {
          "base_uri": "https://localhost:8080/"
        },
        "id": "RpDR08GosLAM",
        "outputId": "083dcb81-99e9-4d79-fdc0-421dad48e5b0"
      },
      "execution_count": null,
      "outputs": [
        {
          "output_type": "stream",
          "name": "stdout",
          "text": [
            "3x1=3\n",
            "3x2=6\n",
            "3x3=9\n",
            "3x4=12\n",
            "3x5=15\n",
            "5x1=5\n",
            "5x2=10\n",
            "5x3=15\n",
            "5x4=20\n",
            "5x5=25\n",
            "8x1=8\n",
            "8x2=16\n",
            "8x3=24\n"
          ]
        }
      ]
    },
    {
      "cell_type": "markdown",
      "source": [
        "# for loop"
      ],
      "metadata": {
        "id": "qSn3JqoFtLDn"
      }
    },
    {
      "cell_type": "code",
      "source": [
        "for number in range(2,7+1):\n",
        "    print(number)"
      ],
      "metadata": {
        "colab": {
          "base_uri": "https://localhost:8080/"
        },
        "id": "4K0PRiJitPYY",
        "outputId": "19e955b8-3bc7-4afe-9575-e3a3fdc16e68"
      },
      "execution_count": null,
      "outputs": [
        {
          "output_type": "stream",
          "name": "stdout",
          "text": [
            "2\n",
            "3\n",
            "4\n",
            "5\n",
            "6\n",
            "7\n"
          ]
        }
      ]
    },
    {
      "cell_type": "markdown",
      "source": [
        "Kode tersebut merupakan contoh dari loop for yang melakukan iterasi pada variabel number dalam rentang dari 2 hingga 7+1 (8). Penambahan +1 pada akhir rentang (7+1) dilakukan agar nilai indeks akhir 7 juga termasuk dalam rentang. Nilai pertambahan dalam setiap iterasi loop adalah nilai default yaitu +1. Fungsi print() akan mencetak hasil perkalian nilai \"number\" dengan 3."
      ],
      "metadata": {
        "id": "RpJpv_ybwM5s"
      }
    },
    {
      "cell_type": "code",
      "source": [
        "# Perulangan ini mengulangi nilai variabel \"x\" dalam suatu rentang\n",
        "# dari 2 hingga -1 (indeks akhir rentang -2 tidak termasuk). Ketiga\n",
        "# parameter juga merupakan angka negatif, menjadikannya nilai yang menurun\n",
        "# dari -1. Fungsi print() akan menampilkan nilai yang dihasilkan\n",
        "# \"x\" dimulai dari 2 dan menghitung mundur hingga -1 (indeks -2).\n",
        "\n",
        "for x in range(2, -2, -1):\n",
        "    print(x)"
      ],
      "metadata": {
        "colab": {
          "base_uri": "https://localhost:8080/"
        },
        "id": "UG2iaJD4ugUm",
        "outputId": "a03b4cb8-96f4-4199-c082-211cc0ea045b"
      },
      "execution_count": null,
      "outputs": [
        {
          "output_type": "stream",
          "name": "stdout",
          "text": [
            "2\n",
            "1\n",
            "0\n",
            "-1\n"
          ]
        }
      ]
    },
    {
      "cell_type": "markdown",
      "source": [
        "# Nested for loops"
      ],
      "metadata": {
        "id": "ei7ZrzCqw6H2"
      }
    },
    {
      "cell_type": "code",
      "source": [
        "for left in range(7):\n",
        "  for right in range(left, 7):\n",
        "    print(\"[\" + str(left) + \"|\" + str(right) + \"]\", end=\" \")\n",
        "  print()"
      ],
      "metadata": {
        "colab": {
          "base_uri": "https://localhost:8080/"
        },
        "id": "URZAVKzuw-pS",
        "outputId": "8d235e33-d800-4a00-9265-7fd0855e5ad8"
      },
      "execution_count": null,
      "outputs": [
        {
          "output_type": "stream",
          "name": "stdout",
          "text": [
            "[0|0] [0|1] [0|2] [0|3] [0|4] [0|5] [0|6] \n",
            "[1|1] [1|2] [1|3] [1|4] [1|5] [1|6] \n",
            "[2|2] [2|3] [2|4] [2|5] [2|6] \n",
            "[3|3] [3|4] [3|5] [3|6] \n",
            "[4|4] [4|5] [4|6] \n",
            "[5|5] [5|6] \n",
            "[6|6] \n"
          ]
        }
      ]
    },
    {
      "cell_type": "code",
      "source": [
        "teams = ['Dragon', 'Wolves', 'Pandas', 'Unicorn']\n",
        "for home_team in teams:\n",
        "  for away_team in teams:\n",
        "    if home_team != away_team:\n",
        "      print(home_team + \" VS \" + away_team)"
      ],
      "metadata": {
        "colab": {
          "base_uri": "https://localhost:8080/"
        },
        "id": "L99-jNlGyzoY",
        "outputId": "16a5c1b9-2f19-4e72-fee0-e7839596593a"
      },
      "execution_count": null,
      "outputs": [
        {
          "output_type": "stream",
          "name": "stdout",
          "text": [
            "Dragon VS Wolves\n",
            "Dragon VS Pandas\n",
            "Dragon VS Unicorn\n",
            "Wolves VS Dragon\n",
            "Wolves VS Pandas\n",
            "Wolves VS Unicorn\n",
            "Pandas VS Dragon\n",
            "Pandas VS Wolves\n",
            "Pandas VS Unicorn\n",
            "Unicorn VS Dragon\n",
            "Unicorn VS Wolves\n",
            "Unicorn VS Pandas\n"
          ]
        }
      ]
    },
    {
      "cell_type": "code",
      "source": [
        "for n in range(6,19,3):\n",
        "    print(n*2)"
      ],
      "metadata": {
        "colab": {
          "base_uri": "https://localhost:8080/"
        },
        "id": "0EUPnk3H4g1H",
        "outputId": "99f0203b-67c1-4bd5-de8c-6ddf030c58ef"
      },
      "execution_count": null,
      "outputs": [
        {
          "output_type": "stream",
          "name": "stdout",
          "text": [
            "12\n",
            "18\n",
            "24\n",
            "30\n",
            "36\n"
          ]
        }
      ]
    },
    {
      "cell_type": "code",
      "source": [
        "for n in range(19):\n",
        "    if n % 2 == 0:\n",
        "        print(n)"
      ],
      "metadata": {
        "colab": {
          "base_uri": "https://localhost:8080/"
        },
        "id": "AYjHqzKl5I89",
        "outputId": "4260bb8b-8e84-4b26-f898-024ab31d85a2"
      },
      "execution_count": null,
      "outputs": [
        {
          "output_type": "stream",
          "name": "stdout",
          "text": [
            "0\n",
            "2\n",
            "4\n",
            "6\n",
            "8\n",
            "10\n",
            "12\n",
            "14\n",
            "16\n",
            "18\n"
          ]
        }
      ]
    },
    {
      "cell_type": "code",
      "source": [
        "for n in range(10):\n",
        "    print(n+n)"
      ],
      "metadata": {
        "colab": {
          "base_uri": "https://localhost:8080/"
        },
        "id": "htIEwM1l5PLE",
        "outputId": "91398e43-f9ac-4de4-9d48-b5574abcff03"
      },
      "execution_count": null,
      "outputs": [
        {
          "output_type": "stream",
          "name": "stdout",
          "text": [
            "0\n",
            "2\n",
            "4\n",
            "6\n",
            "8\n",
            "10\n",
            "12\n",
            "14\n",
            "16\n",
            "18\n"
          ]
        }
      ]
    },
    {
      "cell_type": "markdown",
      "source": [
        "# Reqursion (opsional)"
      ],
      "metadata": {
        "id": "QfJhxNrN6p-B"
      }
    },
    {
      "cell_type": "code",
      "source": [
        "def factorial(n):\n",
        "  print(\"Factorial called with \"+ str(n))\n",
        "  if n < 2:\n",
        "    print(\"returning 1\")\n",
        "    return 1\n",
        "  result = n * factorial (n-1)\n",
        "  print(\"Returning \" + str(result) + \" for factorial of \" + str(n))\n",
        "  return result\n",
        "\n",
        "print(factorial (3))"
      ],
      "metadata": {
        "id": "ZOV5TRM96wBJ",
        "colab": {
          "base_uri": "https://localhost:8080/"
        },
        "outputId": "fb2eb9de-afc7-46bb-8694-bff8508c62ed"
      },
      "execution_count": null,
      "outputs": [
        {
          "output_type": "stream",
          "name": "stdout",
          "text": [
            "Factorial called with 3\n",
            "Factorial called with 2\n",
            "Factorial called with 1\n",
            "returning 1\n",
            "Returning 2 for factorial of 2\n",
            "Returning 6 for factorial of 3\n",
            "6\n"
          ]
        }
      ]
    },
    {
      "cell_type": "code",
      "source": [
        "def is_power_of(number, base):\n",
        "    # Base case: when number is smaller than base.\n",
        "    if number < base:\n",
        "        # If number is equal to 1, it's a power (base**0).\n",
        "        return number == 1\n",
        "\n",
        "    # Recursive case: keep dividing number by base.\n",
        "    return is_power_of(number / base, base)\n",
        "\n",
        "print(is_power_of(8, 2))   # Should be True (2^3 = 8)\n",
        "print(is_power_of(64, 4))  # Should be True (4^3 = 64)\n",
        "print(is_power_of(70, 10)) # Should be False (no power of 10 gives 70)\n"
      ],
      "metadata": {
        "colab": {
          "base_uri": "https://localhost:8080/"
        },
        "id": "E1viJt3zAq1M",
        "outputId": "456e91db-90f2-4812-f938-e893bf34b082"
      },
      "execution_count": null,
      "outputs": [
        {
          "output_type": "stream",
          "name": "stdout",
          "text": [
            "True\n",
            "True\n",
            "False\n"
          ]
        }
      ]
    },
    {
      "cell_type": "code",
      "source": [
        "def sum_positive_numbers(n):\n",
        "    if n == 1:\n",
        "        return 1\n",
        "    else:\n",
        "        return n + sum_positive_numbers(n - 1)\n",
        "\n",
        "print(sum_positive_numbers(3))  # Should be 6 (1 + 2 + 3)\n",
        "print(sum_positive_numbers(5))  # Should be 15 (1 + 2 + 3 + 4 + 5)\n"
      ],
      "metadata": {
        "colab": {
          "base_uri": "https://localhost:8080/"
        },
        "id": "p8YCev1lD34k",
        "outputId": "97b5e8ae-825c-481d-84fe-ab85fc314bcb"
      },
      "execution_count": null,
      "outputs": [
        {
          "output_type": "stream",
          "name": "stdout",
          "text": [
            "6\n",
            "15\n"
          ]
        }
      ]
    }
  ]
}